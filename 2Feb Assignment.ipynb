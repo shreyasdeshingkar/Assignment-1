{
 "cells": [
  {
   "cell_type": "markdown",
   "id": "8b8e3eaa-4be1-4290-a256-bef932ee50d0",
   "metadata": {},
   "source": [
    "Que 1 Ans=>\n",
    "\n",
    "A for loop is used when you want to iterate over a sequence (such as a list, tuple, string, or range) and execute a set of statements a specified number of times.\n",
    "So, you would use a for loop when you know in advance how many times you want to repeat a set of statements,\n"
   ]
  },
  {
   "cell_type": "code",
   "execution_count": 1,
   "id": "c4dd72c0-5f0b-4d40-875b-c4a590bc04d7",
   "metadata": {},
   "outputs": [
    {
     "name": "stdout",
     "output_type": "stream",
     "text": [
      "apple\n",
      "banana\n",
      "cherry\n"
     ]
    }
   ],
   "source": [
    "fruits = ['apple', 'banana', 'cherry']\n",
    "for fruit in fruits:\n",
    "  print(fruit)"
   ]
  },
  {
   "cell_type": "markdown",
   "id": "9110bddb-c414-433b-96a9-0a7b2b8dfc5f",
   "metadata": {},
   "source": [
    "A while loop, on the other hand, is used when you want to repeat a set of statements as long as a certain condition is met."
   ]
  },
  {
   "cell_type": "code",
   "execution_count": 2,
   "id": "32a65a49-ffe7-42de-8cbe-db7b2d6fe206",
   "metadata": {},
   "outputs": [
    {
     "name": "stdout",
     "output_type": "stream",
     "text": [
      "1\n",
      "2\n",
      "3\n",
      "4\n",
      "5\n"
     ]
    }
   ],
   "source": [
    "counter = 1\n",
    "while counter <= 5:\n",
    "  print(counter)\n",
    "  counter += 1"
   ]
  },
  {
   "cell_type": "markdown",
   "id": "d87acd71-b44c-492b-94e3-295643445a28",
   "metadata": {},
   "source": [
    "Que 2 Ans=>"
   ]
  },
  {
   "cell_type": "code",
   "execution_count": 3,
   "id": "810ad2e2-6a6c-4243-b783-e226fac398f5",
   "metadata": {},
   "outputs": [
    {
     "name": "stdout",
     "output_type": "stream",
     "text": [
      "sum of natural number is : 55\n",
      "product of natural number is : 3628800\n"
     ]
    }
   ],
   "source": [
    "#Using for loop\n",
    "sum = 0\n",
    "product = 1\n",
    "\n",
    "for i in range(1,11):\n",
    "    sum=sum+i\n",
    "    product=product*i\n",
    "print(\"sum of natural number is :\",sum)\n",
    "print(\"product of natural number is :\",product)"
   ]
  },
  {
   "cell_type": "code",
   "execution_count": 6,
   "id": "30b0b2f3-24b2-4138-add6-99bd50c0ca79",
   "metadata": {},
   "outputs": [
    {
     "name": "stdout",
     "output_type": "stream",
     "text": [
      "sum of natural number is : 55\n",
      "product of natural number is : 3628800\n"
     ]
    }
   ],
   "source": [
    "#Using while loop\n",
    "sum = 0\n",
    "product = 1\n",
    "i=1\n",
    "\n",
    "while i<=10 :\n",
    "    sum = sum+i\n",
    "    product = product*i\n",
    "    i=i+1\n",
    "print(\"sum of natural number is :\",sum)\n",
    "print(\"product of natural number is :\",product)    "
   ]
  },
  {
   "cell_type": "markdown",
   "id": "a07405ce-6132-4dec-ba33-2490ace5b758",
   "metadata": {},
   "source": [
    "Que 3 Ans=>"
   ]
  },
  {
   "cell_type": "code",
   "execution_count": null,
   "id": "ad540d52-dd89-421f-a0a6-82400de3b73b",
   "metadata": {},
   "outputs": [],
   "source": [
    "    units = int(input(\"Enter the number of units consumed: \"))\n",
    "    if units <= 100:\n",
    "        bill = units * 4.5\n",
    "    elif units <= 200:\n",
    "        bill = 100 * 4.5 + (units-100) * 6\n",
    "    elif units <= 300:\n",
    "        bill = 100 * 4.5 + 100 * 6 + (units-200) * 10\n",
    "    else:\n",
    "        bill = 100 * 4.5 + 100 * 6 + 100 * 10 + (units-300) * 20\n",
    "    \n",
    "\n",
    "\n",
    "print(\"The total electricity bill is: Rs.\", bill)\n"
   ]
  },
  {
   "cell_type": "markdown",
   "id": "ff168036-a170-41fa-8d5a-f2e23849be67",
   "metadata": {},
   "source": [
    "Que 4 Ans=>"
   ]
  },
  {
   "cell_type": "code",
   "execution_count": 18,
   "id": "a4df719b-65c3-46d8-8b78-281f1281d220",
   "metadata": {},
   "outputs": [
    {
     "name": "stdout",
     "output_type": "stream",
     "text": [
      "Cubes of numbers using for loop: [8, 64, 125, 216, 512, 1000, 1728, 2744, 3375, 4096, 5832, 8000, 10648, 13824, 15625, 17576, 21952, 27000, 32768, 39304, 42875, 46656, 54872, 64000, 74088, 85184, 91125, 97336, 110592, 125000, 140608, 157464, 166375, 175616, 195112, 216000, 238328, 262144, 274625, 287496, 314432, 343000, 373248, 405224, 421875, 438976, 474552, 512000, 551368, 592704, 614125, 636056, 681472, 729000, 778688, 830584, 857375, 884736, 941192, 1000000]\n"
     ]
    }
   ],
   "source": [
    "# Using for loop\n",
    "l = []\n",
    "for i in range (1,101):\n",
    "    cube = i**3\n",
    "    if cube%4==0 or cube%5==0:\n",
    "        l.append(cube)\n",
    "print(\"Cubes of numbers using for loop:\",l)"
   ]
  },
  {
   "cell_type": "code",
   "execution_count": null,
   "id": "39d539b7-3281-45b1-ac33-e7c456adc4e2",
   "metadata": {},
   "outputs": [],
   "source": [
    "#Using while loop\n",
    "\n",
    "l1 = []\n",
    "i = 1\n",
    "while i <= 100:\n",
    "    cube = i**3\n",
    "    if cube%4==0 or cube%5==0:\n",
    "        l1.append(cube)\n",
    "        i+=1\n",
    "print(\"Cubes of numbers using while loop:\",l1)    "
   ]
  },
  {
   "cell_type": "markdown",
   "id": "0da87ee0-aa2a-4875-aec6-e64246ab52d6",
   "metadata": {},
   "source": [
    "Que 5 Ans=>"
   ]
  },
  {
   "cell_type": "code",
   "execution_count": null,
   "id": "5ab7a817-002f-4e7e-a4a2-6144229c4e80",
   "metadata": {},
   "outputs": [],
   "source": [
    "string = \"I want to become a data scientist\"\n",
    "vowels = \"aeiouAEIOU\"\n",
    "count = 0\n",
    "\n",
    "for char in string:\n",
    "    if char in vowels:\n",
    "        count += 1\n",
    "\n",
    "print(\"Number of vowels in the string:\", count)\n"
   ]
  },
  {
   "cell_type": "code",
   "execution_count": null,
   "id": "1220e451-1964-4e01-9dde-46995a2c1447",
   "metadata": {},
   "outputs": [],
   "source": []
  }
 ],
 "metadata": {
  "kernelspec": {
   "display_name": "Python 3 (ipykernel)",
   "language": "python",
   "name": "python3"
  },
  "language_info": {
   "codemirror_mode": {
    "name": "ipython",
    "version": 3
   },
   "file_extension": ".py",
   "mimetype": "text/x-python",
   "name": "python",
   "nbconvert_exporter": "python",
   "pygments_lexer": "ipython3",
   "version": "3.10.8"
  }
 },
 "nbformat": 4,
 "nbformat_minor": 5
}
